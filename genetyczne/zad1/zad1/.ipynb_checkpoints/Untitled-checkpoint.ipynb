{
 "cells": [
  {
   "cell_type": "code",
   "execution_count": 14,
   "id": "066fa5ef-3208-4a60-bd92-ac5313f911ad",
   "metadata": {},
   "outputs": [],
   "source": [
    "import pandas as pd\n",
    "from sympy import * \n",
    "import os"
   ]
  },
  {
   "cell_type": "code",
   "execution_count": 17,
   "id": "18fff1ec-15c8-4336-98cc-1b2069cb0277",
   "metadata": {},
   "outputs": [],
   "source": [
    "df = pd.read_csv('output.txt')\n",
    "df.to_excel('output.xlsx', 'Sheet1')"
   ]
  },
  {
   "cell_type": "code",
   "execution_count": 46,
   "id": "a6281ea2-5e11-404d-af5b-7256a00eeb81",
   "metadata": {},
   "outputs": [
    {
     "name": "stdout",
     "output_type": "stream",
     "text": [
      "A1^2 - 2,7372031070512128*B1*(A1 - 1,236353230807938)/((3,4089635147212165 - 1,9097484510503646/(1,8320529225618321*A1*B1*(A1 - 2,2243747048117024) - 0,7861863008798804))*(-0,476448498344783*A1*(2,086413219765762*B1 + 8,4401329249271135) + 0,6626257816105463*B1 + 1,9122111332172384*(0,50781602022184681*A1 + 0,076234185251870012)/(A1*(B1 + 0,7926864997505438) - 15,483897543700433*B1*(A1 + 0,010305577538061605)*(2,584760321735886*B1 + 0,42569743102895895)*(-0,30988070906259434*(-0,37772901553703253 - 17,993055922897752/A1)*(2*A1 - 1,1933352923503525)/((-4,1296900489615159*A1 + 1,8747377388351312*B1 - 0,65552069232855271)/(-0,066619753264772555*A1 - 0,03360966329063855*(-0,25058785576934816 - 1,0668768608037102/A1)*(2*A1 - 0,83335902874994298) - 0,010305577538061605*(1,4375883676658607 - B1)/(-A1 + B1 + 3,1989042517537602) + 2,616782145928927) + 1,2272575114915516) + 1,6294633023099746 + 0,77682786150148793/(A1 - 1,6380349328122072)) - 0,44385566721714786/(19643,387191534091*B1 + (B1 - 1,9288849560120571)/(0,6179849697722339*A1 - 1,663817261895411 + 2,5769813655904725/(A1 - 0,79365887980309162)) + 1,5179062821290059)) - 255,04245574304345 + 0,36833883814800641/(2,0893729623450956*A1 - 18,492706702173917*B1*(1,1797284806647415*A1 - 2,8745301013182975) - B1 + 12,664982623246306)) - 4,3774420560844151 + 85,132727221737127/(1,2703294054444461*A1 + 0,036125754221765247)) + 2,5394701425336503*B1*(1,1797284806647415*A1 - 2,7539470329329765) + 0,99245485170150486\n"
     ]
    },
    {
     "data": {
      "text/plain": [
       "1476"
      ]
     },
     "execution_count": 46,
     "metadata": {},
     "output_type": "execute_result"
    }
   ],
   "source": [
    "#os.path.abspath(os.getcwd())\n",
    "f = open(\"problem.txt\", \"r\")\n",
    "problem = f.read()\n",
    "\n",
    "\n",
    "X1 = symbols('X1')\n",
    "X2 = symbols('X2')\n",
    "simplified = simplify(problem)\n",
    "excel = mathematica_code(simplified)\n",
    "excel = excel.replace(\".\", \",\").replace(\"X1\",\"A1\").replace(\"X2\",\"B1\")\n",
    "print(excel)\n",
    "w = open(\"simplified.txt\", \"w\")\n",
    "w.write(excel)\n",
    "\n",
    "#df2 = pd.read_csv(\"simplified.txt\",\"\\t\")\n",
    "#df2.to_excel('simplified.xlsx', 'Sheet2')\n"
   ]
  },
  {
   "cell_type": "code",
   "execution_count": null,
   "id": "291c4dd7-7600-49fb-83ae-8c1b79f5ee5f",
   "metadata": {},
   "outputs": [],
   "source": []
  }
 ],
 "metadata": {
  "kernelspec": {
   "display_name": "Python 3 (ipykernel)",
   "language": "python",
   "name": "python3"
  },
  "language_info": {
   "codemirror_mode": {
    "name": "ipython",
    "version": 3
   },
   "file_extension": ".py",
   "mimetype": "text/x-python",
   "name": "python",
   "nbconvert_exporter": "python",
   "pygments_lexer": "ipython3",
   "version": "3.10.4"
  }
 },
 "nbformat": 4,
 "nbformat_minor": 5
}
