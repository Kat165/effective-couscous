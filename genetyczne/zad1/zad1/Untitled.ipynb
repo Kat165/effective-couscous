{
 "cells": [
  {
   "cell_type": "code",
   "execution_count": 2,
   "id": "066fa5ef-3208-4a60-bd92-ac5313f911ad",
   "metadata": {},
   "outputs": [],
   "source": [
    "import pandas as pd\n",
    "from sympy import * \n",
    "import os"
   ]
  },
  {
   "cell_type": "code",
   "execution_count": 3,
   "id": "18fff1ec-15c8-4336-98cc-1b2069cb0277",
   "metadata": {},
   "outputs": [],
   "source": [
    "df = pd.read_csv('output.txt')\n",
    "df.to_excel('output.xlsx', 'Sheet1')"
   ]
  },
  {
   "cell_type": "code",
   "execution_count": 5,
   "id": "a6281ea2-5e11-404d-af5b-7256a00eeb81",
   "metadata": {},
   "outputs": [
    {
     "name": "stdout",
     "output_type": "stream",
     "text": [
      "244,92544752351064*A1 - 2,922199229472362\n"
     ]
    },
    {
     "data": {
      "text/plain": [
       "41"
      ]
     },
     "execution_count": 5,
     "metadata": {},
     "output_type": "execute_result"
    }
   ],
   "source": [
    "#os.path.abspath(os.getcwd())\n",
    "f = open(\"problem.txt\", \"r\")\n",
    "problem = f.read()\n",
    "\n",
    "\n",
    "X1 = symbols('X1')\n",
    "X2 = symbols('X2')\n",
    "simplified = simplify(problem)\n",
    "excel = mathematica_code(simplified)\n",
    "excel = excel.replace(\".\", \",\").replace(\"X1\",\"A1\").replace(\"X2\",\"B1\")\n",
    "print(excel)\n",
    "w = open(\"simplified.txt\", \"w\")\n",
    "w.write(excel)\n",
    "\n",
    "#df2 = pd.read_csv(\"simplified.txt\",\"\\t\")\n",
    "#df2.to_excel('simplified.xlsx', 'Sheet2')\n"
   ]
  },
  {
   "cell_type": "code",
   "execution_count": null,
   "id": "291c4dd7-7600-49fb-83ae-8c1b79f5ee5f",
   "metadata": {},
   "outputs": [],
   "source": []
  }
 ],
 "metadata": {
  "kernelspec": {
   "display_name": "Python 3 (ipykernel)",
   "language": "python",
   "name": "python3"
  },
  "language_info": {
   "codemirror_mode": {
    "name": "ipython",
    "version": 3
   },
   "file_extension": ".py",
   "mimetype": "text/x-python",
   "name": "python",
   "nbconvert_exporter": "python",
   "pygments_lexer": "ipython3",
   "version": "3.10.4"
  }
 },
 "nbformat": 4,
 "nbformat_minor": 5
}
